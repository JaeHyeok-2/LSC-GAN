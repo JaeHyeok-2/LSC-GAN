{
 "cells": [
  {
   "cell_type": "code",
   "execution_count": 2,
   "metadata": {},
   "outputs": [
    {
     "name": "stderr",
     "output_type": "stream",
     "text": [
      "c:\\Users\\dlwog\\anaconda3\\envs\\cuda11_1\\lib\\site-packages\\tqdm\\auto.py:21: TqdmWarning: IProgress not found. Please update jupyter and ipywidgets. See https://ipywidgets.readthedocs.io/en/stable/user_install.html\n",
      "  from .autonotebook import tqdm as notebook_tqdm\n"
     ]
    }
   ],
   "source": [
    "import torch \n",
    "import torch.nn as nn  \n",
    "import torch.optim as optim \n",
    "from torch.utils.data import DataLoader \n",
    "from torchvision.datasets import CelebA \n",
    "import torchvision.transforms as transforms "
   ]
  },
  {
   "cell_type": "code",
   "execution_count": 3,
   "metadata": {},
   "outputs": [
    {
     "name": "stdout",
     "output_type": "stream",
     "text": [
      "True\n"
     ]
    }
   ],
   "source": [
    "cuda = torch.cuda.is_available() \n",
    "print(cuda)"
   ]
  },
  {
   "cell_type": "code",
   "execution_count": 4,
   "metadata": {},
   "outputs": [],
   "source": [
    "## LSC VAE \n",
    "class Encoder(nn.Module):\n",
    "    def __init__(self, latent_dim):\n",
    "        super().__init__()\n",
    "        self.conv1 = nn.Conv2d(3, 64, kernel_size=4, stride=2, padding=1) \n",
    "        self.conv2 = nn.Conv2d(64, 128, kernel_size=4, stride=2, padding=1)\n",
    "        self.conv3 = nn.Conv2d(128, 256, kernel_size=4, stride=2, padding=1) \n",
    "        self.conv4 = nn.Conv2d(256, 512, kernel_size=4, stride=2, padding=1) \n",
    "        self.fc_mu = nn.Linear(512 * 4 * 4, latent_dim) \n",
    "        self.fc_logvar = nn.Linear(512 * 4 * 4, latent_dim) \n",
    "        self.activation = nn.ReLU()\n",
    "    \n",
    "    def forward(self, x):\n",
    "        x = self.activation(self.conv1(x))\n",
    "        x = self.activation(self.conv2(x))\n",
    "        x = self.activation(self.conv3(x))\n",
    "        x = self.activation(self.conv4(x)) \n",
    "        x = x.view(x.size(0), -1) \n",
    "        \n",
    "        mu,logvar = self.fc_mu(x), self.fc_logvar(x) \n",
    "        return mu, logvar \n",
    "    \n",
    "\n",
    "class Decoder(nn.Module):\n",
    "    def __init__(self,latent_dim):\n",
    "        super().__init__()\n",
    "        self.fc = nn.Linear(latent_dim, 512 * 4 * 4)\n",
    "        self.conv_transpose1 = nn.ConvTranspose2d(512, 256, kernel_size=4, stride=2, padding=1)\n",
    "        self.conv_transpose2 = nn.ConvTranspose2d(256, 128, kernel_size=4, stride=2, padding=1) \n",
    "        self.conv_transpose3 = nn.ConvTranspose2d(128, 64, kernel_size=4, stride=2, padding=1) \n",
    "        self.conv_transpose4 = nn.ConvTranspose2d(64, 3, kernel_size=4, stride=2, padding=1) \n",
    "        self.activation = nn.ReLU()\n",
    "        \n",
    "    def forward(self, z):\n",
    "        x = self.fc(z)\n",
    "        x = x.view(-1, 512, 4, 4)\n",
    "        x = self.activation(self.conv_transpose1(x))\n",
    "        x = self.activation(self.conv_transpose2(x)) \n",
    "        x = self.activation(self.conv_transpose3(x))\n",
    "        x = nn.Sigmoid(self.conv_transpose4(x))\n",
    "        return x \n",
    "    \n",
    "\n",
    "class LSC_VAE(nn.Module):\n",
    "    def __init__(self, latent_dim):\n",
    "        super().__init__()\n",
    "        self.encoder = Encoder(latent_dim) \n",
    "        self.decoder = Decoder(latent_dim) \n",
    "        \n",
    "    def forward(self, x) :\n",
    "        mu, logvar = self.encoder(x) \n",
    "        std = torch.exp(0.5 * logvar) \n",
    "        eps = torch.randn_like(std)\n",
    "        z = mu + std * eps\n",
    "        reconstructed_x = self.decoder(z)\n",
    "        return reconstructed_x, mu, logvar \n",
    "    \n",
    "    def loss_function(self, reconstruction_x, x, mu, logvar):\n",
    "        reconstruction_loss = nn.MSELoss(reconstruction_x, x)\n",
    "        kl_divergence = -0.5 * torch.sum(1 + logvar - mu.pow(2) - logvar.exp())\n",
    "        \n",
    "        total_loss = reconstruction_loss + kl_divergence \n",
    "        \n",
    "        return total_loss \n",
    "    \n",
    "class Generator(nn.Module):\n",
    "    def __init__(self, latent_dim, num_features):\n",
    "        super().__init__()\n",
    "        self.decoder = Decoder(latent_dim)\n",
    "        \n",
    "    def forward(self, z):\n",
    "        generated_images = self.decoder(z)\n",
    "        return generated_images\n",
    "    \n",
    "    "
   ]
  },
  {
   "cell_type": "code",
   "execution_count": 5,
   "metadata": {},
   "outputs": [
    {
     "ename": "TypeError",
     "evalue": "__init__() got an unexpected keyword argument 'num_features'",
     "output_type": "error",
     "traceback": [
      "\u001b[1;31m---------------------------------------------------------------------------\u001b[0m",
      "\u001b[1;31mTypeError\u001b[0m                                 Traceback (most recent call last)",
      "Cell \u001b[1;32mIn[5], line 10\u001b[0m\n\u001b[0;32m      8\u001b[0m latent_dim \u001b[38;5;241m=\u001b[39m \u001b[38;5;241m100\u001b[39m \n\u001b[0;32m      9\u001b[0m num_features \u001b[38;5;241m=\u001b[39m \u001b[38;5;241m20\u001b[39m \n\u001b[1;32m---> 10\u001b[0m lsc_vae \u001b[38;5;241m=\u001b[39m \u001b[43mLSC_VAE\u001b[49m\u001b[43m(\u001b[49m\u001b[43mlatent_dim\u001b[49m\u001b[38;5;241;43m=\u001b[39;49m\u001b[43mlatent_dim\u001b[49m\u001b[43m,\u001b[49m\u001b[43m \u001b[49m\u001b[43mnum_features\u001b[49m\u001b[38;5;241;43m=\u001b[39;49m\u001b[43mnum_features\u001b[49m\u001b[43m)\u001b[49m \n\u001b[0;32m     12\u001b[0m generator \u001b[38;5;241m=\u001b[39m Generator(latent_dim, num_features)\n\u001b[0;32m     13\u001b[0m generator_optimizer \u001b[38;5;241m=\u001b[39m optim\u001b[38;5;241m.\u001b[39mAdam(generator\u001b[38;5;241m.\u001b[39mparameters(), lr \u001b[38;5;241m=\u001b[39m \u001b[38;5;241m0.0002\u001b[39m, betas\u001b[38;5;241m=\u001b[39m(\u001b[38;5;241m0.5\u001b[39m, \u001b[38;5;241m0.999\u001b[39m))\n",
      "\u001b[1;31mTypeError\u001b[0m: __init__() got an unexpected keyword argument 'num_features'"
     ]
    }
   ],
   "source": [
    "transform = transforms.Compose([\n",
    "    transforms.CenterCrop((138, 138)),\n",
    "    transforms.Resize((64, 64)),\n",
    "    transforms.ToTensor()\n",
    "])\n",
    "\n",
    "# celebA_dataset = CelebA(root='./data', split='all', target_type='attr',transform= transform, download=True)\n",
    "latent_dim = 100 \n",
    "num_features = 20 \n",
    "lsc_vae = LSC_VAE(latent_dim=latent_dim) \n",
    "\n",
    "generator = Generator(latent_dim, num_features)\n",
    "generator_optimizer = optim.Adam(generator.parameters(), lr = 0.0002, betas=(0.5, 0.999))"
   ]
  },
  {
   "cell_type": "code",
   "execution_count": null,
   "metadata": {},
   "outputs": [
    {
     "name": "stdout",
     "output_type": "stream",
     "text": [
      "202599\n"
     ]
    }
   ],
   "source": [
    "import os \n",
    "print(len(os.listdir(\"./data/celebA/img_align_celeba/img_align_celeba\")))\n"
   ]
  },
  {
   "cell_type": "code",
   "execution_count": null,
   "metadata": {},
   "outputs": [],
   "source": [
    "celebA_PATH = \"./data/celebA/img_align_celeba/img_align_celeba\"\n",
    "test_image = os.listdir(celebA_PATH)[:3]"
   ]
  },
  {
   "cell_type": "code",
   "execution_count": null,
   "metadata": {},
   "outputs": [
    {
     "data": {
      "text/plain": [
       "['000001.jpg', '000002.jpg', '000003.jpg']"
      ]
     },
     "execution_count": 15,
     "metadata": {},
     "output_type": "execute_result"
    }
   ],
   "source": [
    "test_image"
   ]
  },
  {
   "cell_type": "code",
   "execution_count": null,
   "metadata": {},
   "outputs": [],
   "source": [
    "import matplotlib.pyplot as plt "
   ]
  }
 ],
 "metadata": {
  "kernelspec": {
   "display_name": "cuda11_1",
   "language": "python",
   "name": "python3"
  },
  "language_info": {
   "codemirror_mode": {
    "name": "ipython",
    "version": 3
   },
   "file_extension": ".py",
   "mimetype": "text/x-python",
   "name": "python",
   "nbconvert_exporter": "python",
   "pygments_lexer": "ipython3",
   "version": "3.9.18"
  }
 },
 "nbformat": 4,
 "nbformat_minor": 2
}
